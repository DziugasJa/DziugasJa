{
  "nbformat": 4,
  "nbformat_minor": 0,
  "metadata": {
    "colab": {
      "name": "CNN_Flatland.ipynb",
      "provenance": [],
      "collapsed_sections": []
    },
    "kernelspec": {
      "name": "python3",
      "display_name": "Python 3"
    },
    "language_info": {
      "name": "python"
    },
    "accelerator": "GPU"
  },
  "cells": [
    {
      "cell_type": "code",
      "source": [
        "import gzip\n",
        "import pickle\n",
        "import numpy as np\n",
        "from sklearn.model_selection import train_test_split\n",
        "from tensorflow import keras\n",
        "import tensorflow as tf\n",
        "import matplotlib.pyplot as plt\n",
        "import pandas as pd\n",
        "from tensorflow.keras.utils import to_categorical\n",
        "import keras\n",
        "from keras.models import Sequential,Input,Model\n",
        "from keras.layers import Dense, Dropout, Flatten\n",
        "from keras.layers import Conv2D, MaxPooling2D\n",
        "from tensorflow.keras.models import Sequential\n",
        "from tensorflow.keras.layers import (\n",
        "    BatchNormalization, SeparableConv2D, MaxPooling2D, Activation, Flatten, Dropout, Dense\n",
        ")\n",
        "from keras.layers.advanced_activations import LeakyReLU\n",
        "def evaluate(path, model):\n",
        "    X, y = pickle.load(gzip.open(path, 'rb'))\n",
        "    y[y != 0] -= 2\n",
        "    X = X / 255.\n",
        "    acc = np.mean(model(X).numpy().argmax(axis=1) == y)\n",
        "    return acc\n",
        "\n"
      ],
      "metadata": {
        "id": "PZPM7I24VqXC"
      },
      "execution_count": 55,
      "outputs": []
    },
    {
      "cell_type": "code",
      "source": [
        "path = 'flatland_train.data'\n",
        "X, y = pickle.load(gzip.open(path, 'rb'))\n",
        "y[y != 0] -= 2\n",
        "X = X / 255."
      ],
      "metadata": {
        "id": "uKTnAMRcVqaC"
      },
      "execution_count": 56,
      "outputs": []
    },
    {
      "cell_type": "code",
      "source": [
        "X_train, X_test, y_train, y_test = train_test_split(X, y, test_size=0.2)\n",
        "X_train = X_train.reshape(-1, 50,50, 1)\n",
        "X_test = X_test.reshape(-1, 50, 50, 1)\n",
        "\n",
        "  "
      ],
      "metadata": {
        "id": "SDY562V2Vqep"
      },
      "execution_count": 57,
      "outputs": []
    },
    {
      "cell_type": "code",
      "source": [
        "X_train = X_train.astype('float32')\n",
        "X_test = X_test.astype('float32')"
      ],
      "metadata": {
        "id": "WjWiVpYb1I3Y"
      },
      "execution_count": 58,
      "outputs": []
    },
    {
      "cell_type": "code",
      "source": [
        "y_train_one_hot = to_categorical(y_train)\n",
        "y_test_one_hot = to_categorical(y_test)\n",
        "\n",
        "# Display the change for category label using one-hot encoding\n",
        "print('Original label:', y_train[85])\n",
        "print('After conversion to one-hot:', y_train_one_hot[85])"
      ],
      "metadata": {
        "colab": {
          "base_uri": "https://localhost:8080/"
        },
        "id": "qKiwvV--1JKr",
        "outputId": "7c705a12-0e90-481b-925b-4ef141e62aa3"
      },
      "execution_count": 59,
      "outputs": [
        {
          "output_type": "stream",
          "name": "stdout",
          "text": [
            "Original label: 0.0\n",
            "After conversion to one-hot: [1. 0. 0. 0. 0.]\n"
          ]
        }
      ]
    },
    {
      "cell_type": "code",
      "source": [
        "train_X,valid_X,train_label,valid_label = train_test_split(X_train, y_train_one_hot, test_size=0.2, random_state=13)"
      ],
      "metadata": {
        "id": "Is2WI2js4qr8"
      },
      "execution_count": 60,
      "outputs": []
    },
    {
      "cell_type": "code",
      "source": [
        "#\n",
        "#model = keras.models.Sequential()\n",
        "#model.add(keras.layers.Conv2D(64, kernel_size=(3, 3), activation='relu', input_shape=(50, 50, 1)))\n",
        "#model.add(keras.layers.Conv2D(64, kernel_size=(3, 3), activation='relu'))\n",
        "#model.add(keras.layers.Flatten())\n",
        "#model.add(keras.layers.Dense(100, activation=\"relu\"))\n",
        "#model.add(keras.layers.Dense(10, activation=\"softmax\"))\n",
        "#model.compile(loss=\"sparse_categorical_crossentropy\",\n",
        " #             optimizer=\"sgd\",\n",
        "#              metrics=[\"accuracy\"])\n",
        "#model.summary()\n",
        "#\n",
        "\n",
        "\n"
      ],
      "metadata": {
        "id": "xJcAgsyzc-60"
      },
      "execution_count": null,
      "outputs": []
    },
    {
      "cell_type": "code",
      "source": [
        "model = keras.models.Sequential()\n",
        "model.add(keras.layers.Conv2D(32, kernel_size=(3, 3),activation='relu',input_shape=(50, 50, 1),padding='same'))\n",
        "model.add(keras.layers.LeakyReLU(alpha=0.1))\n",
        "model.add(keras.layers.MaxPooling2D((2, 2),padding='same'))\n",
        "model.add(keras.layers.Conv2D(64, (3, 3), activation='relu',padding='same'))\n",
        "model.add(keras.layers.LeakyReLU(alpha=0.1))\n",
        "model.add(keras.layers.MaxPooling2D(pool_size=(2, 2),padding='same'))\n",
        "model.add(keras.layers.Conv2D(128, (3, 3), activation='relu',padding='same'))\n",
        "model.add(keras.layers.LeakyReLU(alpha=0.1))                  \n",
        "model.add(keras.layers.MaxPooling2D(pool_size=(2, 2),padding='same'))\n",
        "model.add(keras.layers.Flatten())\n",
        "model.add(keras.layers.Dense(128, activation='relu'))\n",
        "model.add(keras.layers.LeakyReLU(alpha=0.1))                  \n",
        "model.add(keras.layers.Dense(10, activation='softmax'))\n",
        "model.compile(loss=\"sparse_categorical_crossentropy\",\n",
        "              optimizer=\"sgd\",\n",
        "              metrics=[\"accuracy\"])\n",
        "model.summary()"
      ],
      "metadata": {
        "id": "CKsQnBEJ7Kqg"
      },
      "execution_count": null,
      "outputs": []
    },
    {
      "cell_type": "code",
      "source": [
        "loss = model.fit(X_train, y_train, epochs =25, validation_split=0.2)"
      ],
      "metadata": {
        "colab": {
          "base_uri": "https://localhost:8080/"
        },
        "id": "7UMY6hEtc-8i",
        "outputId": "2331c065-907e-41f9-c870-3e6a0b3a6dd0"
      },
      "execution_count": 80,
      "outputs": [
        {
          "output_type": "stream",
          "name": "stdout",
          "text": [
            "Epoch 1/25\n",
            "200/200 [==============================] - 3s 16ms/step - loss: 0.3020 - accuracy: 0.9070 - val_loss: 0.4394 - val_accuracy: 0.8587\n",
            "Epoch 2/25\n",
            "200/200 [==============================] - 3s 15ms/step - loss: 0.2662 - accuracy: 0.9198 - val_loss: 0.2979 - val_accuracy: 0.9237\n",
            "Epoch 3/25\n",
            "200/200 [==============================] - 3s 15ms/step - loss: 0.2303 - accuracy: 0.9356 - val_loss: 0.3003 - val_accuracy: 0.9156\n",
            "Epoch 4/25\n",
            "200/200 [==============================] - 3s 15ms/step - loss: 0.2013 - accuracy: 0.9466 - val_loss: 0.3047 - val_accuracy: 0.9225\n",
            "Epoch 5/25\n",
            "200/200 [==============================] - 3s 15ms/step - loss: 0.1901 - accuracy: 0.9491 - val_loss: 0.2734 - val_accuracy: 0.9381\n",
            "Epoch 6/25\n",
            "200/200 [==============================] - 3s 15ms/step - loss: 0.1664 - accuracy: 0.9575 - val_loss: 0.2964 - val_accuracy: 0.9281\n",
            "Epoch 7/25\n",
            "200/200 [==============================] - 3s 15ms/step - loss: 0.1543 - accuracy: 0.9583 - val_loss: 0.2849 - val_accuracy: 0.9344\n",
            "Epoch 8/25\n",
            "200/200 [==============================] - 3s 15ms/step - loss: 0.1495 - accuracy: 0.9608 - val_loss: 0.3411 - val_accuracy: 0.9044\n",
            "Epoch 9/25\n",
            "200/200 [==============================] - 3s 15ms/step - loss: 0.1376 - accuracy: 0.9639 - val_loss: 0.2579 - val_accuracy: 0.9500\n",
            "Epoch 10/25\n",
            "200/200 [==============================] - 3s 15ms/step - loss: 0.1243 - accuracy: 0.9688 - val_loss: 0.4815 - val_accuracy: 0.8569\n",
            "Epoch 11/25\n",
            "200/200 [==============================] - 3s 15ms/step - loss: 0.1142 - accuracy: 0.9686 - val_loss: 0.2811 - val_accuracy: 0.9463\n",
            "Epoch 12/25\n",
            "200/200 [==============================] - 3s 14ms/step - loss: 0.1014 - accuracy: 0.9734 - val_loss: 0.3182 - val_accuracy: 0.9269\n",
            "Epoch 13/25\n",
            "200/200 [==============================] - 3s 15ms/step - loss: 0.0949 - accuracy: 0.9759 - val_loss: 0.2846 - val_accuracy: 0.9438\n",
            "Epoch 14/25\n",
            "200/200 [==============================] - 3s 15ms/step - loss: 0.0892 - accuracy: 0.9773 - val_loss: 0.2961 - val_accuracy: 0.9394\n",
            "Epoch 15/25\n",
            "200/200 [==============================] - 3s 14ms/step - loss: 0.0812 - accuracy: 0.9795 - val_loss: 0.2890 - val_accuracy: 0.9481\n",
            "Epoch 16/25\n",
            "200/200 [==============================] - 3s 15ms/step - loss: 0.0791 - accuracy: 0.9798 - val_loss: 0.2862 - val_accuracy: 0.9450\n",
            "Epoch 17/25\n",
            "200/200 [==============================] - 3s 15ms/step - loss: 0.0724 - accuracy: 0.9808 - val_loss: 0.2772 - val_accuracy: 0.9463\n",
            "Epoch 18/25\n",
            "200/200 [==============================] - 3s 14ms/step - loss: 0.0712 - accuracy: 0.9819 - val_loss: 0.2838 - val_accuracy: 0.9456\n",
            "Epoch 19/25\n",
            "200/200 [==============================] - 3s 15ms/step - loss: 0.0558 - accuracy: 0.9862 - val_loss: 0.2904 - val_accuracy: 0.9475\n",
            "Epoch 20/25\n",
            "200/200 [==============================] - 3s 14ms/step - loss: 0.0602 - accuracy: 0.9833 - val_loss: 0.2776 - val_accuracy: 0.9513\n",
            "Epoch 21/25\n",
            "200/200 [==============================] - 3s 14ms/step - loss: 0.0449 - accuracy: 0.9895 - val_loss: 0.2722 - val_accuracy: 0.9569\n",
            "Epoch 22/25\n",
            "200/200 [==============================] - 3s 14ms/step - loss: 0.0438 - accuracy: 0.9880 - val_loss: 0.2828 - val_accuracy: 0.9606\n",
            "Epoch 23/25\n",
            "200/200 [==============================] - 3s 14ms/step - loss: 0.0414 - accuracy: 0.9897 - val_loss: 0.3095 - val_accuracy: 0.9494\n",
            "Epoch 24/25\n",
            "200/200 [==============================] - 3s 14ms/step - loss: 0.0347 - accuracy: 0.9922 - val_loss: 0.2784 - val_accuracy: 0.9606\n",
            "Epoch 25/25\n",
            "200/200 [==============================] - 3s 14ms/step - loss: 0.0364 - accuracy: 0.9895 - val_loss: 0.3048 - val_accuracy: 0.9544\n"
          ]
        }
      ]
    },
    {
      "cell_type": "code",
      "source": [
        "pd.DataFrame(loss.history).plot()\n"
      ],
      "metadata": {
        "colab": {
          "base_uri": "https://localhost:8080/",
          "height": 282
        },
        "id": "eO4xm4pQc-_7",
        "outputId": "26208b37-e393-4362-d2e0-662f87940f19"
      },
      "execution_count": 81,
      "outputs": [
        {
          "output_type": "execute_result",
          "data": {
            "text/plain": [
              "<matplotlib.axes._subplots.AxesSubplot at 0x7f03a37efe90>"
            ]
          },
          "metadata": {},
          "execution_count": 81
        },
        {
          "output_type": "display_data",
          "data": {
            "image/png": "[encoded data removed]",
            "text/plain": [
              "<Figure size 432x288 with 1 Axes>"
            ]
          },
          "metadata": {
            "needs_background": "light"
          }
        }
      ]
    },
    {
      "cell_type": "code",
      "source": [
        "test_loss, test_acc = model.evaluate(X_test,  y_test, verbose=2)\n",
        "print(test_acc)"
      ],
      "metadata": {
        "colab": {
          "base_uri": "https://localhost:8080/"
        },
        "id": "V1WZghioc_CU",
        "outputId": "3d4176e6-6548-401d-cd24-42c07d3abb05"
      },
      "execution_count": 82,
      "outputs": [
        {
          "output_type": "stream",
          "name": "stdout",
          "text": [
            "63/63 - 0s - loss: 0.3449 - accuracy: 0.9480 - 405ms/epoch - 6ms/step\n",
            "0.9480000138282776\n"
          ]
        }
      ]
    },
    {
      "cell_type": "code",
      "source": [
        "model.save('model.h5')"
      ],
      "metadata": {
        "id": "jJRQVO4gc_Hl"
      },
      "execution_count": 85,
      "outputs": []
    },
    {
      "cell_type": "code",
      "source": [
        "model = keras.models.load_model('model.h5')\n",
        "evaluate('flatland_train.data', model)"
      ],
      "metadata": {
        "id": "1kUCkvaLVqie",
        "colab": {
          "base_uri": "https://localhost:8080/"
        },
        "outputId": "6a34fba6-15d1-483b-907e-17ebcefacece"
      },
      "execution_count": 84,
      "outputs": [
        {
          "output_type": "execute_result",
          "data": {
            "text/plain": [
              "0.978"
            ]
          },
          "metadata": {},
          "execution_count": 84
        }
      ]
    }
  ]
}