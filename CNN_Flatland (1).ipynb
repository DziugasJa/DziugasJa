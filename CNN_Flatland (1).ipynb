{
  "nbformat": 4,
  "nbformat_minor": 0,
  "metadata": {
    "colab": {
      "name": "CNN_Flatland.ipynb",
      "provenance": [],
      "collapsed_sections": []
    },
    "kernelspec": {
      "name": "python3",
      "display_name": "Python 3"
    },
    "language_info": {
      "name": "python"
    },
    "accelerator": "GPU"
  },
  "cells": [
    {
      "cell_type": "code",
      "source": [
        "import gzip\n",
        "import pickle\n",
        "import numpy as np\n",
        "from sklearn.model_selection import train_test_split\n",
        "from tensorflow import keras\n",
        "import tensorflow as tf\n",
        "import matplotlib.pyplot as plt\n",
        "import pandas as pd\n",
        "from tensorflow.keras.utils import to_categorical\n",
        "import keras\n",
        "from keras.models import Sequential,Input,Model\n",
        "from keras.layers import Dense, Dropout, Flatten\n",
        "from keras.layers import Conv2D, MaxPooling2D\n",
        "from tensorflow.keras.models import Sequential\n",
        "from tensorflow.keras.layers import (\n",
        "    BatchNormalization, SeparableConv2D, MaxPooling2D, Activation, Flatten, Dropout, Dense\n",
        ")\n",
        "from keras.layers.advanced_activations import LeakyReLU\n",
        "def evaluate(path, model):\n",
        "    X, y = pickle.load(gzip.open(path, 'rb'))\n",
        "    y[y != 0] -= 2\n",
        "    X = X / 255.\n",
        "    acc = np.mean(model(X).numpy().argmax(axis=1) == y)\n",
        "    return acc\n",
        "\n"
      ],
      "metadata": {
        "id": "PZPM7I24VqXC"
      },
      "execution_count": 157,
      "outputs": []
    },
    {
      "cell_type": "code",
      "source": [
        "path = 'flatland_train.data'\n",
        "X, y = pickle.load(gzip.open(path, 'rb'))\n",
        "y[y != 0] -= 2\n",
        "X = X / 255."
      ],
      "metadata": {
        "id": "uKTnAMRcVqaC"
      },
      "execution_count": 158,
      "outputs": []
    },
    {
      "cell_type": "code",
      "source": [
        "X_train, X_test, y_train, y_test = train_test_split(X, y, test_size=0.2)\n",
        "X_train = X_train.reshape(-1, 50,50, 1)\n",
        "X_test = X_test.reshape(-1, 50, 50, 1)\n",
        "\n",
        "  "
      ],
      "metadata": {
        "id": "SDY562V2Vqep"
      },
      "execution_count": 159,
      "outputs": []
    },
    {
      "cell_type": "code",
      "source": [
        "#X_train = X_train.astype('float32')\n",
        "#X_test = X_test.astype('float32')"
      ],
      "metadata": {
        "id": "WjWiVpYb1I3Y"
      },
      "execution_count": 160,
      "outputs": []
    },
    {
      "cell_type": "code",
      "source": [
        "y_train_one_hot = to_categorical(y_train)\n",
        "y_test_one_hot = to_categorical(y_test)\n",
        "\n",
        "\n",
        "print('Original label:', y_train[85])\n",
        "print('After conversion to one-hot:', y_train_one_hot[85])"
      ],
      "metadata": {
        "colab": {
          "base_uri": "https://localhost:8080/"
        },
        "id": "qKiwvV--1JKr",
        "outputId": "3a67e98c-1ad8-4129-8475-6d66e307dc37"
      },
      "execution_count": 161,
      "outputs": [
        {
          "output_type": "stream",
          "name": "stdout",
          "text": [
            "Original label: 3.0\n",
            "After conversion to one-hot: [0. 0. 0. 1. 0.]\n"
          ]
        }
      ]
    },
    {
      "cell_type": "code",
      "source": [
        "train_X,valid_X,train_label,valid_label = train_test_split(X_train, y_train_one_hot, test_size=0.2, random_state=16)"
      ],
      "metadata": {
        "id": "Is2WI2js4qr8"
      },
      "execution_count": 162,
      "outputs": []
    },
    {
      "cell_type": "code",
      "source": [
        "model = keras.models.Sequential()\n",
        "model.add(keras.layers.Conv2D(32, kernel_size=(3, 3),activation='relu',input_shape=(50, 50, 1),padding='same'))\n",
        "model.add(keras.layers.LeakyReLU(alpha=0.1))\n",
        "model.add(keras.layers.MaxPooling2D((2, 2),padding='same'))\n",
        "model.add(keras.layers.Conv2D(64, (3, 3), activation='relu',padding='same'))\n",
        "model.add(keras.layers.LeakyReLU(alpha=0.1))\n",
        "model.add(keras.layers.MaxPooling2D(pool_size=(2, 2),padding='same'))\n",
        "model.add(keras.layers.Conv2D(128, (3, 3), activation='relu',padding='same'))\n",
        "model.add(keras.layers.LeakyReLU(alpha=0.1))                  \n",
        "model.add(keras.layers.MaxPooling2D(pool_size=(2, 2),padding='same'))\n",
        "model.add(keras.layers.Flatten())\n",
        "model.add(keras.layers.Dense(128, activation='relu'))\n",
        "model.add(keras.layers.LeakyReLU(alpha=0.1))                  \n",
        "model.add(keras.layers.Dense(10, activation='softmax'))\n",
        "model.compile(loss=\"sparse_categorical_crossentropy\",\n",
        "              optimizer=\"sgd\",\n",
        "              metrics=[\"accuracy\"])\n",
        "model.summary()"
      ],
      "metadata": {
        "colab": {
          "base_uri": "https://localhost:8080/"
        },
        "id": "CKsQnBEJ7Kqg",
        "outputId": "abb82e7d-74b6-4c07-a733-a27e1fe80386"
      },
      "execution_count": 163,
      "outputs": [
        {
          "output_type": "stream",
          "name": "stdout",
          "text": [
            "Model: \"sequential_20\"\n",
            "_________________________________________________________________\n",
            " Layer (type)                Output Shape              Param #   \n",
            "=================================================================\n",
            " conv2d_49 (Conv2D)          (None, 50, 50, 32)        320       \n",
            "                                                                 \n",
            " leaky_re_lu_40 (LeakyReLU)  (None, 50, 50, 32)        0         \n",
            "                                                                 \n",
            " max_pooling2d_30 (MaxPoolin  (None, 25, 25, 32)       0         \n",
            " g2D)                                                            \n",
            "                                                                 \n",
            " conv2d_50 (Conv2D)          (None, 25, 25, 64)        18496     \n",
            "                                                                 \n",
            " leaky_re_lu_41 (LeakyReLU)  (None, 25, 25, 64)        0         \n",
            "                                                                 \n",
            " max_pooling2d_31 (MaxPoolin  (None, 13, 13, 64)       0         \n",
            " g2D)                                                            \n",
            "                                                                 \n",
            " conv2d_51 (Conv2D)          (None, 13, 13, 128)       73856     \n",
            "                                                                 \n",
            " leaky_re_lu_42 (LeakyReLU)  (None, 13, 13, 128)       0         \n",
            "                                                                 \n",
            " max_pooling2d_32 (MaxPoolin  (None, 7, 7, 128)        0         \n",
            " g2D)                                                            \n",
            "                                                                 \n",
            " flatten_19 (Flatten)        (None, 6272)              0         \n",
            "                                                                 \n",
            " dense_38 (Dense)            (None, 128)               802944    \n",
            "                                                                 \n",
            " leaky_re_lu_43 (LeakyReLU)  (None, 128)               0         \n",
            "                                                                 \n",
            " dense_39 (Dense)            (None, 10)                1290      \n",
            "                                                                 \n",
            "=================================================================\n",
            "Total params: 896,906\n",
            "Trainable params: 896,906\n",
            "Non-trainable params: 0\n",
            "_________________________________________________________________\n"
          ]
        }
      ]
    },
    {
      "cell_type": "code",
      "source": [
        "loss = model.fit(X_train, y_train, epochs =50, validation_split=0.2)"
      ],
      "metadata": {
        "colab": {
          "base_uri": "https://localhost:8080/"
        },
        "id": "7UMY6hEtc-8i",
        "outputId": "744ae7c7-67df-4577-bb78-048b20978b48"
      },
      "execution_count": 164,
      "outputs": [
        {
          "output_type": "stream",
          "name": "stdout",
          "text": [
            "Epoch 1/50\n",
            "200/200 [==============================] - 4s 17ms/step - loss: 1.6142 - accuracy: 0.3589 - val_loss: 1.3442 - val_accuracy: 0.4363\n",
            "Epoch 2/50\n",
            "200/200 [==============================] - 3s 15ms/step - loss: 1.3121 - accuracy: 0.4427 - val_loss: 1.2289 - val_accuracy: 0.4569\n",
            "Epoch 3/50\n",
            "200/200 [==============================] - 3s 14ms/step - loss: 1.2305 - accuracy: 0.4636 - val_loss: 1.1990 - val_accuracy: 0.4563\n",
            "Epoch 4/50\n",
            "200/200 [==============================] - 3s 14ms/step - loss: 1.1998 - accuracy: 0.4797 - val_loss: 1.1912 - val_accuracy: 0.4481\n",
            "Epoch 5/50\n",
            "200/200 [==============================] - 3s 14ms/step - loss: 1.1642 - accuracy: 0.4958 - val_loss: 1.1563 - val_accuracy: 0.4963\n",
            "Epoch 6/50\n",
            "200/200 [==============================] - 3s 14ms/step - loss: 1.1400 - accuracy: 0.5013 - val_loss: 1.1478 - val_accuracy: 0.5063\n",
            "Epoch 7/50\n",
            "200/200 [==============================] - 3s 13ms/step - loss: 1.1016 - accuracy: 0.5188 - val_loss: 1.0969 - val_accuracy: 0.5456\n",
            "Epoch 8/50\n",
            "200/200 [==============================] - 3s 13ms/step - loss: 1.0642 - accuracy: 0.5456 - val_loss: 1.1070 - val_accuracy: 0.5175\n",
            "Epoch 9/50\n",
            "200/200 [==============================] - 3s 14ms/step - loss: 1.0050 - accuracy: 0.5805 - val_loss: 0.9780 - val_accuracy: 0.6019\n",
            "Epoch 10/50\n",
            "200/200 [==============================] - 3s 14ms/step - loss: 0.9231 - accuracy: 0.6244 - val_loss: 0.9173 - val_accuracy: 0.6269\n",
            "Epoch 11/50\n",
            "200/200 [==============================] - 3s 13ms/step - loss: 0.8382 - accuracy: 0.6553 - val_loss: 0.8190 - val_accuracy: 0.6787\n",
            "Epoch 12/50\n",
            "200/200 [==============================] - 3s 13ms/step - loss: 0.7362 - accuracy: 0.7067 - val_loss: 0.6676 - val_accuracy: 0.7469\n",
            "Epoch 13/50\n",
            "200/200 [==============================] - 3s 14ms/step - loss: 0.6674 - accuracy: 0.7361 - val_loss: 0.7012 - val_accuracy: 0.7381\n",
            "Epoch 14/50\n",
            "200/200 [==============================] - 3s 14ms/step - loss: 0.6027 - accuracy: 0.7678 - val_loss: 0.6319 - val_accuracy: 0.7600\n",
            "Epoch 15/50\n",
            "200/200 [==============================] - 3s 13ms/step - loss: 0.5452 - accuracy: 0.7928 - val_loss: 0.5144 - val_accuracy: 0.7831\n",
            "Epoch 16/50\n",
            "200/200 [==============================] - 3s 13ms/step - loss: 0.4843 - accuracy: 0.8214 - val_loss: 0.5117 - val_accuracy: 0.8175\n",
            "Epoch 17/50\n",
            "200/200 [==============================] - 3s 14ms/step - loss: 0.4499 - accuracy: 0.8366 - val_loss: 0.4270 - val_accuracy: 0.8687\n",
            "Epoch 18/50\n",
            "200/200 [==============================] - 3s 13ms/step - loss: 0.3919 - accuracy: 0.8695 - val_loss: 0.3853 - val_accuracy: 0.8575\n",
            "Epoch 19/50\n",
            "200/200 [==============================] - 3s 13ms/step - loss: 0.3576 - accuracy: 0.8816 - val_loss: 0.3839 - val_accuracy: 0.8706\n",
            "Epoch 20/50\n",
            "200/200 [==============================] - 3s 13ms/step - loss: 0.3005 - accuracy: 0.9072 - val_loss: 0.2841 - val_accuracy: 0.9344\n",
            "Epoch 21/50\n",
            "200/200 [==============================] - 3s 13ms/step - loss: 0.2700 - accuracy: 0.9236 - val_loss: 0.2916 - val_accuracy: 0.9294\n",
            "Epoch 22/50\n",
            "200/200 [==============================] - 3s 13ms/step - loss: 0.2381 - accuracy: 0.9336 - val_loss: 0.2761 - val_accuracy: 0.9256\n",
            "Epoch 23/50\n",
            "200/200 [==============================] - 3s 14ms/step - loss: 0.2086 - accuracy: 0.9473 - val_loss: 0.2338 - val_accuracy: 0.9500\n",
            "Epoch 24/50\n",
            "200/200 [==============================] - 3s 13ms/step - loss: 0.1905 - accuracy: 0.9514 - val_loss: 0.2358 - val_accuracy: 0.9475\n",
            "Epoch 25/50\n",
            "200/200 [==============================] - 3s 13ms/step - loss: 0.1815 - accuracy: 0.9516 - val_loss: 0.2350 - val_accuracy: 0.9481\n",
            "Epoch 26/50\n",
            "200/200 [==============================] - 3s 14ms/step - loss: 0.1617 - accuracy: 0.9584 - val_loss: 0.2621 - val_accuracy: 0.9244\n",
            "Epoch 27/50\n",
            "200/200 [==============================] - 3s 14ms/step - loss: 0.1521 - accuracy: 0.9613 - val_loss: 0.2472 - val_accuracy: 0.9444\n",
            "Epoch 28/50\n",
            "200/200 [==============================] - 3s 13ms/step - loss: 0.1399 - accuracy: 0.9647 - val_loss: 0.6155 - val_accuracy: 0.8044\n",
            "Epoch 29/50\n",
            "200/200 [==============================] - 3s 13ms/step - loss: 0.1319 - accuracy: 0.9691 - val_loss: 0.2062 - val_accuracy: 0.9531\n",
            "Epoch 30/50\n",
            "200/200 [==============================] - 3s 14ms/step - loss: 0.1218 - accuracy: 0.9695 - val_loss: 0.2024 - val_accuracy: 0.9600\n",
            "Epoch 31/50\n",
            "200/200 [==============================] - 3s 13ms/step - loss: 0.1029 - accuracy: 0.9755 - val_loss: 0.2060 - val_accuracy: 0.9600\n",
            "Epoch 32/50\n",
            "200/200 [==============================] - 3s 14ms/step - loss: 0.0991 - accuracy: 0.9762 - val_loss: 0.2046 - val_accuracy: 0.9625\n",
            "Epoch 33/50\n",
            "200/200 [==============================] - 3s 13ms/step - loss: 0.0881 - accuracy: 0.9783 - val_loss: 0.2239 - val_accuracy: 0.9456\n",
            "Epoch 34/50\n",
            "200/200 [==============================] - 3s 13ms/step - loss: 0.0953 - accuracy: 0.9741 - val_loss: 0.1951 - val_accuracy: 0.9625\n",
            "Epoch 35/50\n",
            "200/200 [==============================] - 3s 14ms/step - loss: 0.0763 - accuracy: 0.9800 - val_loss: 0.1854 - val_accuracy: 0.9644\n",
            "Epoch 36/50\n",
            "200/200 [==============================] - 3s 14ms/step - loss: 0.0658 - accuracy: 0.9822 - val_loss: 0.1922 - val_accuracy: 0.9650\n",
            "Epoch 37/50\n",
            "200/200 [==============================] - 3s 13ms/step - loss: 0.0622 - accuracy: 0.9833 - val_loss: 0.2249 - val_accuracy: 0.9488\n",
            "Epoch 38/50\n",
            "200/200 [==============================] - 3s 13ms/step - loss: 0.0644 - accuracy: 0.9805 - val_loss: 0.1971 - val_accuracy: 0.9681\n",
            "Epoch 39/50\n",
            "200/200 [==============================] - 3s 13ms/step - loss: 0.0501 - accuracy: 0.9872 - val_loss: 0.1899 - val_accuracy: 0.9669\n",
            "Epoch 40/50\n",
            "200/200 [==============================] - 3s 13ms/step - loss: 0.0455 - accuracy: 0.9869 - val_loss: 0.3605 - val_accuracy: 0.9087\n",
            "Epoch 41/50\n",
            "200/200 [==============================] - 3s 13ms/step - loss: 0.0482 - accuracy: 0.9866 - val_loss: 0.1831 - val_accuracy: 0.9650\n",
            "Epoch 42/50\n",
            "200/200 [==============================] - 3s 14ms/step - loss: 0.0371 - accuracy: 0.9898 - val_loss: 0.2546 - val_accuracy: 0.9500\n",
            "Epoch 43/50\n",
            "200/200 [==============================] - 3s 14ms/step - loss: 0.0378 - accuracy: 0.9902 - val_loss: 0.1783 - val_accuracy: 0.9706\n",
            "Epoch 44/50\n",
            "200/200 [==============================] - 3s 14ms/step - loss: 0.0355 - accuracy: 0.9895 - val_loss: 0.1996 - val_accuracy: 0.9669\n",
            "Epoch 45/50\n",
            "200/200 [==============================] - 3s 14ms/step - loss: 0.0280 - accuracy: 0.9920 - val_loss: 0.1834 - val_accuracy: 0.9737\n",
            "Epoch 46/50\n",
            "200/200 [==============================] - 3s 13ms/step - loss: 0.0291 - accuracy: 0.9930 - val_loss: 0.2066 - val_accuracy: 0.9613\n",
            "Epoch 47/50\n",
            "200/200 [==============================] - 3s 14ms/step - loss: 0.0261 - accuracy: 0.9928 - val_loss: 0.2255 - val_accuracy: 0.9631\n",
            "Epoch 48/50\n",
            "200/200 [==============================] - 3s 13ms/step - loss: 0.0228 - accuracy: 0.9937 - val_loss: 0.2103 - val_accuracy: 0.9669\n",
            "Epoch 49/50\n",
            "200/200 [==============================] - 3s 13ms/step - loss: 0.0285 - accuracy: 0.9920 - val_loss: 0.2119 - val_accuracy: 0.9606\n",
            "Epoch 50/50\n",
            "200/200 [==============================] - 3s 13ms/step - loss: 0.0300 - accuracy: 0.9919 - val_loss: 0.2211 - val_accuracy: 0.9650\n"
          ]
        }
      ]
    },
    {
      "cell_type": "code",
      "source": [
        "pd.DataFrame(loss.history).plot()\n"
      ],
      "metadata": {
        "colab": {
          "base_uri": "https://localhost:8080/",
          "height": 282
        },
        "id": "eO4xm4pQc-_7",
        "outputId": "22181374-9128-4be3-aab8-a2c6c70201a2"
      },
      "execution_count": 165,
      "outputs": [
        {
          "output_type": "execute_result",
          "data": {
            "text/plain": [
              "<matplotlib.axes._subplots.AxesSubplot at 0x7f032aacdc10>"
            ]
          },
          "metadata": {},
          "execution_count": 165
        },
        {
          "output_type": "display_data",
          "data": {
            "image/png": "[encoded data removed]",
            "text/plain": [
              "<Figure size 432x288 with 1 Axes>"
            ]
          },
          "metadata": {
            "needs_background": "light"
          }
        }
      ]
    },
    {
      "cell_type": "code",
      "source": [
        "test_loss, test_acc = model.evaluate(X_test,  y_test, verbose=2)\n",
        "print(test_acc)"
      ],
      "metadata": {
        "colab": {
          "base_uri": "https://localhost:8080/"
        },
        "id": "V1WZghioc_CU",
        "outputId": "a0e608a6-2284-49fb-9eeb-e0c6db6ca321"
      },
      "execution_count": 166,
      "outputs": [
        {
          "output_type": "stream",
          "name": "stdout",
          "text": [
            "63/63 - 1s - loss: 0.3481 - accuracy: 0.9615 - 571ms/epoch - 9ms/step\n",
            "0.9614999890327454\n"
          ]
        }
      ]
    },
    {
      "cell_type": "code",
      "source": [
        "model.save('model.h5')"
      ],
      "metadata": {
        "id": "jJRQVO4gc_Hl"
      },
      "execution_count": 167,
      "outputs": []
    },
    {
      "cell_type": "code",
      "source": [
        "model = keras.models.load_model('model.h5')\n",
        "evaluate('flatland_train.data', model)"
      ],
      "metadata": {
        "id": "1kUCkvaLVqie",
        "colab": {
          "base_uri": "https://localhost:8080/"
        },
        "outputId": "18ee9e1a-7eaa-4cbc-a6e4-58171a1e5dc1"
      },
      "execution_count": 168,
      "outputs": [
        {
          "output_type": "execute_result",
          "data": {
            "text/plain": [
              "0.9839"
            ]
          },
          "metadata": {},
          "execution_count": 168
        }
      ]
    }
  ]
}