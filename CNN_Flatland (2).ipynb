{
  "nbformat": 4,
  "nbformat_minor": 0,
  "metadata": {
    "colab": {
      "name": "CNN_Flatland.ipynb",
      "provenance": [],
      "collapsed_sections": []
    },
    "kernelspec": {
      "name": "python3",
      "display_name": "Python 3"
    },
    "language_info": {
      "name": "python"
    },
    "accelerator": "GPU"
  },
  "cells": [
    {
      "cell_type": "code",
      "source": [
        "import gzip\n",
        "import pickle\n",
        "import numpy as np\n",
        "from sklearn.model_selection import train_test_split\n",
        "from tensorflow import keras\n",
        "import tensorflow as tf\n",
        "import matplotlib.pyplot as plt\n",
        "import pandas as pd\n",
        "from tensorflow.keras.utils import to_categorical\n",
        "import keras\n",
        "from keras.models import Sequential,Input,Model\n",
        "from keras.layers import Dense, Dropout, Flatten\n",
        "from keras.layers import Conv2D, MaxPooling2D\n",
        "from tensorflow.keras.models import Sequential\n",
        "from tensorflow.keras.layers import (\n",
        "    BatchNormalization, SeparableConv2D, MaxPooling2D, Activation, Flatten, Dropout, Dense\n",
        ")\n",
        "from keras.layers.advanced_activations import LeakyReLU\n",
        "def evaluate(path, model):\n",
        "    X, y = pickle.load(gzip.open(path, 'rb'))\n",
        "    y[y != 0] -= 2\n",
        "    X = X / 255.\n",
        "    acc = np.mean(model(X).numpy().argmax(axis=1) == y)\n",
        "    return acc\n",
        "\n"
      ],
      "metadata": {
        "id": "PZPM7I24VqXC"
      },
      "execution_count": 116,
      "outputs": []
    },
    {
      "cell_type": "code",
      "source": [
        "path = 'flatland_train.data'\n",
        "X, y = pickle.load(gzip.open(path, 'rb'))\n",
        "y[y != 0] -= 2\n",
        "X = X / 255."
      ],
      "metadata": {
        "id": "uKTnAMRcVqaC"
      },
      "execution_count": 117,
      "outputs": []
    },
    {
      "cell_type": "code",
      "source": [
        "X_train, X_test, y_train, y_test = train_test_split(X, y, test_size=0.2)\n",
        "X_train = X_train.reshape(-1, 50,50, 1)\n",
        "X_test = X_test.reshape(-1, 50, 50, 1)\n",
        "\n",
        "  "
      ],
      "metadata": {
        "id": "SDY562V2Vqep"
      },
      "execution_count": 118,
      "outputs": []
    },
    {
      "cell_type": "code",
      "source": [
        "#X_train = X_train.astype('float32')\n",
        "#X_test = X_test.astype('float32')"
      ],
      "metadata": {
        "id": "WjWiVpYb1I3Y"
      },
      "execution_count": 119,
      "outputs": []
    },
    {
      "cell_type": "code",
      "source": [
        "y_train_one_hot = to_categorical(y_train)\n",
        "y_test_one_hot = to_categorical(y_test)\n",
        "\n",
        "\n",
        "print('Original label:', y_train[85])\n",
        "print('After conversion to one-hot:', y_train_one_hot[85])"
      ],
      "metadata": {
        "colab": {
          "base_uri": "https://localhost:8080/"
        },
        "id": "qKiwvV--1JKr",
        "outputId": "ad760e8c-c48c-436e-98b6-a8946ce88584"
      },
      "execution_count": 120,
      "outputs": [
        {
          "output_type": "stream",
          "name": "stdout",
          "text": [
            "Original label: 1.0\n",
            "After conversion to one-hot: [0. 1. 0. 0. 0.]\n"
          ]
        }
      ]
    },
    {
      "cell_type": "code",
      "source": [
        "train_X,valid_X,train_label,valid_label = train_test_split(X_train, y_train_one_hot, test_size=0.2, random_state=32)"
      ],
      "metadata": {
        "id": "Is2WI2js4qr8"
      },
      "execution_count": 121,
      "outputs": []
    },
    {
      "cell_type": "code",
      "source": [
        "model = keras.models.Sequential()\n",
        "model.add(keras.layers.Conv2D(32, kernel_size=(3, 3),activation='relu',input_shape=(50, 50, 1),padding='same'))\n",
        "model.add(keras.layers.LeakyReLU(alpha=0.1))\n",
        "model.add(keras.layers.MaxPooling2D((2, 2),padding='same'))\n",
        "model.add(keras.layers.Conv2D(64, (3, 3), activation='relu',padding='same'))\n",
        "model.add(keras.layers.LeakyReLU(alpha=0.1))\n",
        "model.add(keras.layers.MaxPooling2D(pool_size=(2, 2),padding='same'))\n",
        "model.add(keras.layers.Conv2D(128, (3, 3), activation='relu',padding='same'))\n",
        "model.add(keras.layers.LeakyReLU(alpha=0.1))                  \n",
        "model.add(keras.layers.MaxPooling2D(pool_size=(2, 2),padding='same'))\n",
        "model.add(keras.layers.Flatten())\n",
        "model.add(keras.layers.Dense(128, activation='relu'))\n",
        "model.add(keras.layers.LeakyReLU(alpha=0.1))                  \n",
        "model.add(keras.layers.Dense(10, activation='softmax'))\n",
        "model.compile(loss=\"sparse_categorical_crossentropy\",\n",
        "              optimizer=\"sgd\",\n",
        "              metrics=[\"accuracy\"])\n",
        "model.summary()"
      ],
      "metadata": {
        "colab": {
          "base_uri": "https://localhost:8080/"
        },
        "id": "CKsQnBEJ7Kqg",
        "outputId": "73a01f40-710d-4f64-ec32-92ad708a279a"
      },
      "execution_count": 122,
      "outputs": [
        {
          "output_type": "stream",
          "name": "stdout",
          "text": [
            "Model: \"sequential_17\"\n",
            "_________________________________________________________________\n",
            " Layer (type)                Output Shape              Param #   \n",
            "=================================================================\n",
            " conv2d_40 (Conv2D)          (None, 50, 50, 32)        320       \n",
            "                                                                 \n",
            " leaky_re_lu_28 (LeakyReLU)  (None, 50, 50, 32)        0         \n",
            "                                                                 \n",
            " max_pooling2d_21 (MaxPoolin  (None, 25, 25, 32)       0         \n",
            " g2D)                                                            \n",
            "                                                                 \n",
            " conv2d_41 (Conv2D)          (None, 25, 25, 64)        18496     \n",
            "                                                                 \n",
            " leaky_re_lu_29 (LeakyReLU)  (None, 25, 25, 64)        0         \n",
            "                                                                 \n",
            " max_pooling2d_22 (MaxPoolin  (None, 13, 13, 64)       0         \n",
            " g2D)                                                            \n",
            "                                                                 \n",
            " conv2d_42 (Conv2D)          (None, 13, 13, 128)       73856     \n",
            "                                                                 \n",
            " leaky_re_lu_30 (LeakyReLU)  (None, 13, 13, 128)       0         \n",
            "                                                                 \n",
            " max_pooling2d_23 (MaxPoolin  (None, 7, 7, 128)        0         \n",
            " g2D)                                                            \n",
            "                                                                 \n",
            " flatten_16 (Flatten)        (None, 6272)              0         \n",
            "                                                                 \n",
            " dense_32 (Dense)            (None, 128)               802944    \n",
            "                                                                 \n",
            " leaky_re_lu_31 (LeakyReLU)  (None, 128)               0         \n",
            "                                                                 \n",
            " dense_33 (Dense)            (None, 10)                1290      \n",
            "                                                                 \n",
            "=================================================================\n",
            "Total params: 896,906\n",
            "Trainable params: 896,906\n",
            "Non-trainable params: 0\n",
            "_________________________________________________________________\n"
          ]
        }
      ]
    },
    {
      "cell_type": "code",
      "source": [
        "loss = model.fit(X_train, y_train, epochs =15, validation_split=0.2)"
      ],
      "metadata": {
        "colab": {
          "base_uri": "https://localhost:8080/"
        },
        "id": "7UMY6hEtc-8i",
        "outputId": "121c0d88-7f7a-4948-e844-240c28832cef"
      },
      "execution_count": 123,
      "outputs": [
        {
          "output_type": "stream",
          "name": "stdout",
          "text": [
            "Epoch 1/15\n",
            "200/200 [==============================] - 4s 17ms/step - loss: 1.6706 - accuracy: 0.3384 - val_loss: 1.3532 - val_accuracy: 0.4650\n",
            "Epoch 2/15\n",
            "200/200 [==============================] - 3s 14ms/step - loss: 1.3076 - accuracy: 0.4377 - val_loss: 1.2175 - val_accuracy: 0.4688\n",
            "Epoch 3/15\n",
            "200/200 [==============================] - 3s 14ms/step - loss: 1.2449 - accuracy: 0.4528 - val_loss: 1.2037 - val_accuracy: 0.4750\n",
            "Epoch 4/15\n",
            "200/200 [==============================] - 3s 14ms/step - loss: 1.2211 - accuracy: 0.4616 - val_loss: 1.1644 - val_accuracy: 0.5000\n",
            "Epoch 5/15\n",
            "200/200 [==============================] - 3s 14ms/step - loss: 1.1897 - accuracy: 0.4770 - val_loss: 1.1499 - val_accuracy: 0.5013\n",
            "Epoch 6/15\n",
            "200/200 [==============================] - 3s 14ms/step - loss: 1.1684 - accuracy: 0.4883 - val_loss: 1.2205 - val_accuracy: 0.4744\n",
            "Epoch 7/15\n",
            "200/200 [==============================] - 3s 14ms/step - loss: 1.1495 - accuracy: 0.4897 - val_loss: 1.1826 - val_accuracy: 0.4950\n",
            "Epoch 8/15\n",
            "200/200 [==============================] - 3s 14ms/step - loss: 1.1245 - accuracy: 0.5050 - val_loss: 1.0893 - val_accuracy: 0.5250\n",
            "Epoch 9/15\n",
            "200/200 [==============================] - 3s 14ms/step - loss: 1.0913 - accuracy: 0.5258 - val_loss: 1.1278 - val_accuracy: 0.4350\n",
            "Epoch 10/15\n",
            "200/200 [==============================] - 3s 13ms/step - loss: 1.0551 - accuracy: 0.5441 - val_loss: 0.9928 - val_accuracy: 0.5962\n",
            "Epoch 11/15\n",
            "200/200 [==============================] - 3s 14ms/step - loss: 1.0026 - accuracy: 0.5694 - val_loss: 0.9257 - val_accuracy: 0.6325\n",
            "Epoch 12/15\n",
            "200/200 [==============================] - 3s 14ms/step - loss: 0.9359 - accuracy: 0.6117 - val_loss: 0.8842 - val_accuracy: 0.6456\n",
            "Epoch 13/15\n",
            "200/200 [==============================] - 3s 13ms/step - loss: 0.8402 - accuracy: 0.6628 - val_loss: 0.7428 - val_accuracy: 0.7231\n",
            "Epoch 14/15\n",
            "200/200 [==============================] - 3s 14ms/step - loss: 0.7407 - accuracy: 0.7105 - val_loss: 0.6681 - val_accuracy: 0.7475\n",
            "Epoch 15/15\n",
            "200/200 [==============================] - 3s 14ms/step - loss: 0.6343 - accuracy: 0.7581 - val_loss: 0.5595 - val_accuracy: 0.8062\n"
          ]
        }
      ]
    },
    {
      "cell_type": "code",
      "source": [
        "pd.DataFrame(loss.history).plot()\n"
      ],
      "metadata": {
        "colab": {
          "base_uri": "https://localhost:8080/",
          "height": 282
        },
        "id": "eO4xm4pQc-_7",
        "outputId": "35619b5b-9838-4bc5-be9f-f5340f85ecb3"
      },
      "execution_count": 124,
      "outputs": [
        {
          "output_type": "execute_result",
          "data": {
            "text/plain": [
              "<matplotlib.axes._subplots.AxesSubplot at 0x7f0410252ed0>"
            ]
          },
          "metadata": {},
          "execution_count": 124
        },
        {
          "output_type": "display_data",
          "data": {
            "image/png": "[encoded data removed]",
            "text/plain": [
              "<Figure size 432x288 with 1 Axes>"
            ]
          },
          "metadata": {
            "needs_background": "light"
          }
        }
      ]
    },
    {
      "cell_type": "code",
      "source": [
        "test_loss, test_acc = model.evaluate(X_test,  y_test, verbose=2)\n",
        "print(test_acc)"
      ],
      "metadata": {
        "colab": {
          "base_uri": "https://localhost:8080/"
        },
        "id": "V1WZghioc_CU",
        "outputId": "50cb54b0-ff9b-4e03-a2d4-4f87da0cd8f4"
      },
      "execution_count": 125,
      "outputs": [
        {
          "output_type": "stream",
          "name": "stdout",
          "text": [
            "63/63 - 1s - loss: 0.5388 - accuracy: 0.8125 - 581ms/epoch - 9ms/step\n",
            "0.8125\n"
          ]
        }
      ]
    },
    {
      "cell_type": "code",
      "source": [
        "model.save('model.h5')"
      ],
      "metadata": {
        "id": "jJRQVO4gc_Hl"
      },
      "execution_count": 126,
      "outputs": []
    },
    {
      "cell_type": "code",
      "source": [
        "model = keras.models.load_model('model.h5')\n",
        "evaluate('flatland_train.data', model)"
      ],
      "metadata": {
        "id": "1kUCkvaLVqie",
        "colab": {
          "base_uri": "https://localhost:8080/"
        },
        "outputId": "6072317d-5ebf-4558-8de6-150fc0e490d5"
      },
      "execution_count": 127,
      "outputs": [
        {
          "output_type": "execute_result",
          "data": {
            "text/plain": [
              "0.8164"
            ]
          },
          "metadata": {},
          "execution_count": 127
        }
      ]
    }
  ]
}